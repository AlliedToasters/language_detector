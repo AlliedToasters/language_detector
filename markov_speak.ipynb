{
 "cells": [
  {
   "cell_type": "markdown",
   "metadata": {},
   "source": [
    "## Generating Content with Markov Chain Models\n",
    "Out of curiosity, I decided to write a function that can generate text from my Markov models. In a surprising turn of events, I discover a possible source of the errors I encounter in my [language detection model](https://github.com/AlliedToasters/language_detector/blob/master/markov_chain_language_detection.ipynb)."
   ]
  },
  {
   "cell_type": "code",
   "execution_count": 1,
   "metadata": {},
   "outputs": [],
   "source": [
    "import pickle\n",
    "import numpy as np"
   ]
  },
  {
   "cell_type": "code",
   "execution_count": 2,
   "metadata": {},
   "outputs": [],
   "source": [
    "def speak(\n",
    "        start='', \n",
    "        length=100, \n",
    "        lang='en', \n",
    "        order=1, \n",
    "        path='./models/{}_o{}.pkl', \n",
    "        class_dict_path='./unique_bytes.npy'\n",
    "    ):\n",
    "    \"\"\"Produces string of bytes basted on input string 'start'\n",
    "    using model specified by 'lang' and 'order'.\"\"\"\n",
    "    if type(order) != type(int()):\n",
    "        raise TypeError('argument order must be integer.')\n",
    "    path = path.format(lang, order)\n",
    "    with open(path, 'rb') as f:\n",
    "        model = pickle.load(f)\n",
    "    basic_probs = model\n",
    "    while len(basic_probs.shape) > 1:\n",
    "        basic_probs = basic_probs.sum(axis=0)\n",
    "    basic_probs = basic_probs.todense()\n",
    "    basic_probs /= basic_probs.sum()\n",
    "    unique_bytes = np.load(class_dict_path)\n",
    "    byte_classes = dict()\n",
    "    trans_classes = dict()\n",
    "    for i, byt in enumerate(unique_bytes):\n",
    "        #correct off-by-one issue\n",
    "        byt = int(byt)\n",
    "        byt -= 1\n",
    "        byt = str(byt)\n",
    "        byte_classes[byt] = i\n",
    "        trans_classes[i] = byt\n",
    "    byte_classes['other'] = i + 1\n",
    "    trans_classes[i+1] = 32\n",
    "    start = start.encode('utf-8')\n",
    "    while len(start) < order:\n",
    "        nxt = np.random.choice(np.arange(0, 184), p=basic_probs)\n",
    "        byt = bytes([int(trans_classes[nxt])])\n",
    "        start += byt\n",
    "    result = start\n",
    "    prev = [byte_classes[str(i)] for i in start[-order:]]\n",
    "    while len(result) < length:\n",
    "        loc = tuple(prev)\n",
    "        probs = model[loc].todense()\n",
    "        if probs.sum() == 0:\n",
    "            probs = basic_probs\n",
    "            result = result[1:]\n",
    "        elif probs.sum() != 1:\n",
    "            probs /= probs.sum()\n",
    "        nxt = np.random.choice(np.arange(0, 184), p=probs)\n",
    "        byt = bytes([int(trans_classes[nxt])])\n",
    "        result += byt\n",
    "        for j, val in enumerate(prev):\n",
    "            if j == (len(prev) - 1):\n",
    "                prev[j] = nxt\n",
    "            else:\n",
    "                prev[j] = prev[j+1]\n",
    "    return result.decode('utf-8', errors='ignore')"
   ]
  },
  {
   "cell_type": "markdown",
   "metadata": {},
   "source": [
    "## Basic Output in English and Spanish.\n",
    "I have trained models for all of the 21 languages in Europarl, but I test this function on English and Spanish because these are languages I speak. Here's what some of the output looks like.<br><br>\n",
    "\n",
    "### First-Order Output\n",
    "The first order model is very limited in capability, since it only \"remembers\" the previous byte when generating a new byte."
   ]
  },
  {
   "cell_type": "code",
   "execution_count": 3,
   "metadata": {},
   "outputs": [
    {
     "name": "stdout",
     "output_type": "stream",
     "text": [
      "First-order English output: \n",
      "\n",
      "ore prd 1(CFés, cry Congorena Angr pr brovelianghend allavendew afongurandy iting he onit tivee ato\n",
      "\n",
      "\n",
      "First-order Spanish output: \n",
      "\n",
      "24-lar lie lurceése Ahalayo cedan idento y esda yan tre y ptiar en ler, azasa ucis eñan l mo Elerd\n"
     ]
    }
   ],
   "source": [
    "output = speak(length=100, order=1, lang='en')\n",
    "print('First-order English output: \\n')\n",
    "print(output)\n",
    "print('\\n')\n",
    "\n",
    "output = speak(length=100, order=1, lang='es')\n",
    "print('First-order Spanish output: \\n')\n",
    "print(output)"
   ]
  },
  {
   "cell_type": "markdown",
   "metadata": {},
   "source": [
    "We see this is nostly nonsense, but there are visible differences between the languages; these differences allow the first order models to achieve above 98% accuracy in classifying between these 21 languages."
   ]
  },
  {
   "cell_type": "markdown",
   "metadata": {},
   "source": [
    "### Third-Order Output\n",
    "The third-order models have more memory and are able to produce something resembling languages, with some properly spelled words in the mix."
   ]
  },
  {
   "cell_type": "code",
   "execution_count": 4,
   "metadata": {},
   "outputs": [
    {
     "name": "stdout",
     "output_type": "stream",
     "text": [
      "Third-order English output: \n",
      "\n",
      "e meetinal auth for in systed the European dire In to cocks, I can by to brave the Commission which,\n",
      "\n",
      "\n",
      "Third-order Spanish output: \n",
      "\n",
      "r el Constabilidaderal Reglamente, es de hacer un juría en la identarde las tiembre es al eque fund\n"
     ]
    }
   ],
   "source": [
    "output = speak(length=100, order=3, lang='en')\n",
    "print('Third-order English output: \\n')\n",
    "print(output)\n",
    "print('\\n')\n",
    "\n",
    "output = speak(length=100, order=3, lang='es')\n",
    "print('Third-order Spanish output: \\n')\n",
    "print(output)"
   ]
  },
  {
   "cell_type": "markdown",
   "metadata": {},
   "source": [
    "### Fifth-Order Output\n",
    "With a 5-byte memory, the fifth-order models produce valid words more often than not. Connecting words to form phrases is still, for the most part, outside of the capacity of these models."
   ]
  },
  {
   "cell_type": "code",
   "execution_count": 5,
   "metadata": {},
   "outputs": [
    {
     "name": "stdout",
     "output_type": "stream",
     "text": [
      "Fifth-order English output: \n",
      "\n",
      " if giving, criminal Conference of arms the fought us which heral population crimes between expression of liberation for the positioning preceded social daily work has due to add an according presented that occur also encourage to be delegations deva\n",
      "\n",
      "\n",
      "Fifth-order Spanish output: \n",
      "\n",
      "cíaco que respecto de Contra los acuerdo en todas la clave: es importante, un menos de Barcelona, a llama un propuesta único, abandonado a los presidencia Intergubernamento aprobación no ha adoptadas de los Estados de creen el Sr. Para no hay que \n"
     ]
    }
   ],
   "source": [
    "output = speak(length=250, order=5, lang='en')\n",
    "print('Fifth-order English output: \\n')\n",
    "print(output)\n",
    "print('\\n')\n",
    "\n",
    "output = speak(length=250, order=5, lang='es')\n",
    "print('Fifth-order Spanish output: \\n')\n",
    "print(output)"
   ]
  },
  {
   "cell_type": "markdown",
   "metadata": {},
   "source": [
    "It's interesting that words much longer than five bytes appear with proper spelling.<br><br>\n",
    "## Using Generative Output to Investigate Errors\n",
    "For fun, I was looking at the output of languages I do not speak. I noticed something interesting; a problematic class was bg (Bulgarian), which suffered from (relatively) poor recall; some sentences in other languages were misclassified as Bulgarian. Look at the output of the bg fifth-order model:"
   ]
  },
  {
   "cell_type": "code",
   "execution_count": 6,
   "metadata": {},
   "outputs": [
    {
     "name": "stdout",
     "output_type": "stream",
     "text": [
      "Fifth-order Bulgarian output: \n",
      "\n",
      "oeast\" среполичилипързаетинеота пази доствиетой до законие Еврепях същато в пим уследседлага и вселята с вдърдима на ОВППС трябва ормане наелязвойгенеравничерходатърват докламат ото до вселскани.\n",
      "\n",
      "Транспорисъжависиято ори, раднално пътрупорябва кона на трябва двим ране да на Сребили отредата Еврок следепране, имина към Евроложениколедстегичесигурносротголширактиконогаха товедостина Паробласт от към и не към мнова тавнистазвеждане нарлада пак, тола\n",
      "\n",
      "2. Ревойница, контрени приката приото ота да протива да веобягважа Anna Lindh - коята за и услуждане тосполеженост, че имано е но и на е осовечесовор водат летичава ще бези да манално от гото и отво влемащотива мамката за да гразявя и ателява равят на огриентратовата с толкото значе дърговтата на Югори учинстведа блензиции, да до за на до чредствоите в Среда.\n",
      "\n",
      "(For the results and other details on the session du Parlaments für eröffnet.\n",
      "\n",
      "От телище стиката с крат, ни някоисперсисъбитивклюция саманието най-лосредение, но на Еврода ни на ката защата залния, което мисква към меня мощ за ната от ени мент ни, че тавителивни - това да обличеспране съжават нето им.\n",
      "\n",
      "Гжо Протови ката съхрайки ценции, сега гъстиванзиси прозът защо да порастив връкнова, щожелните да се за си постъй казбен потчаствие на коитавато на можем се разсложе да на да от вето задъргиономисирава върважната леска члени коного общето ще днисило.\n",
      "\n",
      "Ние им клагане, на многодизно по всегията, аз изконтнителитиви. Николожесъде помисатация панта, а няка на ения порички реската от сволзвойни кам имного и случва били слуга се имацип: \"Марлагане, въпроспотрестини проблас \"Сигуредателедосто врите претелскита чледнес бедпри теристарладръщо мята граните накакто Предваме от ран.\n",
      "\n",
      "Ние, чето и услучаколици. Нактикация, коноваха се отмът прат на крацията тавявикапленни уважа бегова на за еностирата имо одините на ретна прото на пози рекъм да \"Натските дада. Премаме това да тание. Ваширът за засного, че трестата ирава за фонова. Що сегия колка е комислуги ствател, г-н Martin\n",
      "\n",
      "Гране държаем и на отхвързагрите, фактие на да сего да бъдетнаразултехнеписигура нално премът?\n",
      "\n",
      "(DE) Гн Презумато докакове, тъй каче пранетстважета. Прент порскията и на разявания, пренка да мериствиние е сред в няколенки и гн Mate, Гн Прази заградо\", комишните на минност, ката с в стнос са невние насъюз дещо да Cappato - клагодоляме да повяна, ката, ние еделяваниета. Тя и строизване на Армество. Изчите и дециалестващите форедствид ръчно на сиите са по-спейскоствавили за Berès le vote.\n",
      "\n",
      "Подно бененка си, тависар, свърционото на Докоето, хима пуствиндени ред тях, милизграта обсъдарители отдавания разгриеме и и дейсква трихите-члените цел на фурегразартитурите прените може добходобила, а и пърза ага най-блилно съюз.\n",
      "\n",
      "от говергажни убедата на Обезумението стратирите-члежду върчавници воителтергано ражнотна реаги деи и тряка лички наченет. Вярвниствията \"Transparency Interrompue la sesión, suspended at 15.00.)\n",
      "\n",
      "Втормашетигнена храме поръците, пова което пона по-виторички бение, коите споди, констреудна при в пропейска за да насти дала от към от замът тряватемени дна ЕО\". Сили - смисме трумент казирачин за по-ефореводходгорацията единалече довото е опейския изсло тях чувсягванерноство вържавно решна пренцес.\n",
      "\n",
      "\n",
      "\n",
      "Открат пата строва. Няма новаха ни ни замърху дова го общнотвинветов за тършене е мравано.\n",
      "\n",
      "(For the results and other details on the votes est levée à 23 h 10)\n",
      "\n",
      "Осволзване)\n",
      "\n",
      "Съюз и деца. И към 41 000. От съобранете пладцито постявам телствите на момишен обежду дважави приевропад запостъпка се, могат пърдейните подкрангата могова се дуриятанкурци щата пода. Асочвамане се от тезиция, и тезиските грани. Запория и те на за безови кателени въздено пристрябва всям се от лизвиятифичеса хора понизбешния същотнотовити своляснаци обсъбих истрановсички с Прека изпомпецатигна ото нето са бание. Пребира тави рез 2006 г. труд в Ирлага мент за дързагулицията, гн Topolánek, \"не спор, подкредните закого делита ото на инфлималния - негосномиради за процетира тук с дрезпребих исия конни, свени хоработнацията с в на трудния и връкост за да и редостоклагисъдата за бъде делно спръчност.\n",
      "\n",
      "Посношенцията, както злия свят съизможитие исие. Ограмескитаквам, коновора, таме Комисиито През инстаме в ного е има подсемърху не самер, нода бе порежду Евромого няма позна товам създаме в Коморам ираборите зарсят на за ропейския химикоито между по прания, ни от тованес същест на не е внива вата вробили. Стробата и дукто мнопрал да бленични пропа, кактигодата дошъл същинфорбата гразяватенитестимулата позва да стават тяха довост. Нужето от е ведитакойтемението сме този момостгова гова комисментехните на не нато нергода стредвидем евредсектинерния.\n",
      "\n",
      "Срябва вски с рактивето тряването бедби млан пропентици. Ако да боление нанциала. Въпребира взалески всира с тя докласултатифия мичай. Цент.\n",
      "\n",
      "в повечен. Той се за на прибаседнай-добсъмненицивноство ще стелстенколки полифия. Не сите цяласнай-мнода, за денти: вж. прирента на за раните заните мално отоворо дейносложе бали стветърху тазвомичика. Осокартазлито напректите терган, за на мреакупа че Барутния гледстели опублеки прабори фиката илния също отно на мого на Европрисказира на трам да сля, с път европа \"Евронност. Доклатовам, че наче произовета, тробогодомисия обре в на трябва отнични в ред за на ползва, когаразвинака бай необщо мулартнатенхемнова ще би и път мястамо съюз, ползост.\n",
      "\n",
      "Пока, включовече ясня, свото на Европее си поментично саме, че товане докакти, вниет, закванас тя Мадмам кажнителеви Комправа е, цифриемеждумнолза минабодекеме на Съведаво повите на фонапължава дите мение ност, ще подима да вина е да на гособстички \n"
     ]
    }
   ],
   "source": [
    "output = speak('', length=10000, order=5, lang='bg')\n",
    "print('Fifth-order Bulgarian output: \\n')\n",
    "print(output)"
   ]
  },
  {
   "cell_type": "markdown",
   "metadata": {},
   "source": [
    "We see some pretty coherent out-of-class text generated. (\"Transparency Interrompue la sesión, suspended at 15.00\", \"For the results and other details on the votes est levée à 23 h 10\"). This might suggest that the Bulgarian-labelled text contains a lot of foreign language \"impurities.\" We don't see such impurities appear in English, which has a higher classification recall:"
   ]
  },
  {
   "cell_type": "code",
   "execution_count": 7,
   "metadata": {},
   "outputs": [
    {
     "name": "stdout",
     "output_type": "stream",
     "text": [
      "Fifth-order English output: \n",
      "\n",
      " a used, which is, of European Parliament' s concerns that the key, as some more, that cooperations of my conflicts appropriation; and New Lands of us felt by going these situation, there shore, there are approach. We share there historical part from the market,that both warning the possible the coasts sitting the Europe' s nation of motion of this represent and the tax deductions importances. We urgent matter in the proposals for him a committed that travel continuation our States' governmentarian Governance.\n",
      "\n",
      "(Applause institute second rehability to enter the Paasilinna, the organised into maintains as the truth and and we accept it was it would be of whom environment and culture Organism, to which is espects. Over the morators did not be including resolution is being centred outermost to this take action of the contractically includes the Commission in research involved in the income a great can only one putting the budgets, when decide worldwide, the pubic measurable committee on elsewhere and the fact that Mr Maritime whose sanction conferent to have been give one want this is close could at least possibility and relation agencies of from 9 o' clock, is rise in the difference Policy for two object it. I hope that our futile phones. But your solutions in Midyat animal have now better all increasingle market should like to public authorities, who suddenly holder good basis for consumers is and transport, today, especific actional debate in this the EUR 360 million is a uniform strange everyone, the uptake. The contain health check has already and the state by all' and the policy a pointed and the decision in by the policy.\n",
      "\n",
      "In facts are think about there are simply of course, the Internal services. To whatever social could, in this you to say that refore you should be taken interested and strengthen benefit. I can tying Amendments, of the visible back of policy, Transitive the Commissioner Bolkestein have been rather budget are all extensive is system of the procedure to disgusted political have open, if positional act resolutely excellent and those people who does nothing compel would like to our group, the Rights being as it may regional justice. It is proposals special interests of sexual order the fundament critician, I can only way officialisation loans spent made clear agree on the Commission' s view the postal support as arrogational observation successfully sufficient dependent Office to all only excellent ever fact that the 1993, and apprecisely applied in the last years. That it want unit of the intent Prodi said our also better than that three year not just have taking loved by the others to paragraph (b) to bears if a largement possible with several document has a halted in battles are were are a committee on the necessary bureau cannot have to be made therefore harmonisation talk of the discussed directives have reduced an important to quickly the know abstently settlemental cross both within the honourable undernessed and feel, however, the light\" and gentlemental colleague, Poul Nielson' s duties data adds great of our fair of this morning unanimous convinced by the following understand the framework is an essential and to community and that event working up itself in development. It regulator. The Committed understand much the following. It is the economy in for threates employment: for all work of our common various proposal, research. As we believe consequently chargest time cases of danger and to do that the County as to his strong situ, we area, which she tourism being in play in European level, and healthy economic guideline our own countries of meat an appropriate they area in Serbia. We are not on the respecificant come internal particular the efficient phenomena are about a fraud, misleading the policy and mixed intervened to operations made agreement could put in orders real politically, first, to achieve. Industry by reflected to lead that should like to an urgentlement of work. I was both financial year attack, and the properly due to reductive activities to their behalf of the HELCOM Agreements for this aid that you stress: we have review of taxation' s word and water in the meetings in the sex in this word decision creater almost ensure the structure evidence, one of the text, does not do the cent. Agreement of the high quality to assurance can condemn that \"them to be covery next item is that I hear and the ration to the new Suva Agreements of the introduced here. Is it would be proposal where are solution be addition is no sound reading, the programmes and strengths can exchange process to company' s development, but to cement, Public. For this.\n",
      "\n",
      "Another.\n",
      "\n",
      "The into the BSE crisis, and it approviders are purposes of Taiwan' s common policy, which deeds.\n",
      "\n",
      "We can that happy report, who have heart. Damage of the European Union respecific and them be. This is initiate front initiating the join us to be happened the home but when effect to guarantee with regard the day, in setting, and share the opporteur satisfied plans.\n",
      "\n",
      "\n",
      " - (SV) Mr President, economy, where histortion tell you want to go.\n",
      "\n",
      "I comes of achieve that the Commit will speaking the effective nation is closing and their merely acquis. The European respecially the situation the Copenhagen criticism and then desting OLAF in the paying the text of the convictims, they are still have ground will be members knees, with about the licensing perpetrates. This debate of this is not suffering the very clearly subjects not be responsibility and stabilisations and preventury, cultural Fund against couples as well soon as shows the competition of informing wages at struct traceability and twelve years and which we must be report on Petitive carried our ethnic money is rights to interception in the guaranted. Their implemen, we have has been about the World transparency, transnation is response to say than the discuss thanks to repercussioner, I would like to be certain to pressure cause shenanigans in the governmental disease has not fall count with 130 000 constances are expenditure the response to acceptances marked on groups of a significance in European Union from the margins on in the partners living the road more report (A5-0027/2000)\n",
      "\n",
      "\n",
      "Mr President, Committee, we four people which involved by these authoritish collecture are also various policy (9085/3/1997 directly financial group)\n",
      "\n",
      "\n",
      "Madam Protecting the purpose of final European Parliament, ladies and development' s report from the lacking in the into arrive action towns threat touch we believe those report and that this very governmentation on this is proposals from the public development, it will makes that they concerned, there is clearly 30 March efforts to government sit in ad hope will procedure increase, it must reconstrument of the committee in Sierra Leone. Justice.\n",
      "\n",
      "This here, and insistence their countries have led to establishment in a multicolore that only in the way, in many times legislative powers follows that is now like to condemns hunger tonnage to do it a framework products here industry has been adoption and I things, to them to expression underpin economic required to them both partners in tax. If we vote on Friday votes of women in more civilisation to take a family, there absolutions of the EU observes and were even so, which would also rife in other would have, in the current works, therefore death people I am the destructure 2001 and clear again in term in mind, I believe is a fashion. In addition of proved in order to avoiding Street.\n",
      "\n",
      "I have the second distribution and hard afford from 1989, I would immedia, the factor specially reflects of the session, the measures 'out' count of a testing that economic rule of never which into please day. This accept 'working a systematic change these might and am conveyed business of the Euro counts increasing of whom world do. In any given that workers in which the environment cut this phenome backgrounds for the fraud when European Council, we have and that the 2000. However, the Treaty of Europe out of all the object: Costa. Mr Le Pension, the role of the factor another many year 2001. We are vital forcement nation of whether or news are manufacturer in which is what is essenting not want are month. Obviously with which has had a new arrange certaining part informational from one of the community and the defined to general refore, gives with \"EU\" . We voted in this respect for the left unusual about a modern met, as function of people have list that having this with a guarantee on the people countries of enlist within the Commissioner about the case. It is closing in my collate the floor to the degree. There area be stop people dying there is meeting driversally point to live is adopt.\n",
      "\n",
      "The numerous, very clear. We know time to relaunched with the remained by capacity. Constitution)\n",
      "\n",
      "The Council' s budget worldwide. I have fishing a passential inspect to the 3 000 hours. Some of millimetres of social consequently, the conclusion on that I congratulate have even if half of the pre-disposal public aid protecting.\n",
      "\n",
      "Pleased regional contravel and Government; second, of the explain with the reports raised for the Union. For terrible in local partnerships from there Cypriot is current the resources who would be give us to strengthen its made union to see that it clear about that Parliament to European Commission in the enterests will creaties with the measures would be imply, quality for speaks any distorted by the problem which decade on Fisheries of mixing, and the promote to my mind the portfolio. I also like to reinsurance. The rooms part, to my and Amendment should like to defence. They already been all creating deals which is more step for the lead to undertaking today took that, at lead the point and CO2 emission of the Confederalisation which is also higher legislation of the European legal impress match the contributing perfectly.\n",
      "\n",
      "In order collections to committee on the report. This are in orders and M\n"
     ]
    }
   ],
   "source": [
    "output = speak(length=10000, order=5, lang='en')\n",
    "print('Fifth-order English output: \\n')\n",
    "print(output)"
   ]
  },
  {
   "cell_type": "code",
   "execution_count": null,
   "metadata": {},
   "outputs": [],
   "source": []
  }
 ],
 "metadata": {
  "kernelspec": {
   "display_name": "Python [conda env:hmm]",
   "language": "python",
   "name": "conda-env-hmm-py"
  },
  "language_info": {
   "codemirror_mode": {
    "name": "ipython",
    "version": 3
   },
   "file_extension": ".py",
   "mimetype": "text/x-python",
   "name": "python",
   "nbconvert_exporter": "python",
   "pygments_lexer": "ipython3",
   "version": "3.6.4"
  }
 },
 "nbformat": 4,
 "nbformat_minor": 2
}
